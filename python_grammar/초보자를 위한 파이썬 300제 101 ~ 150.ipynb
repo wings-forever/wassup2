{
 "cells": [
  {
   "cell_type": "markdown",
   "metadata": {},
   "source": [
    "# 101 ~ 110"
   ]
  },
  {
   "cell_type": "markdown",
   "metadata": {},
   "source": [
    "101번 : Boolen"
   ]
  },
  {
   "cell_type": "markdown",
   "metadata": {},
   "source": [
    "102번 : True"
   ]
  },
  {
   "cell_type": "code",
   "execution_count": 1,
   "metadata": {},
   "outputs": [
    {
     "name": "stdout",
     "output_type": "stream",
     "text": [
      "True\n"
     ]
    }
   ],
   "source": [
    "print(3<5)"
   ]
  },
  {
   "cell_type": "code",
   "execution_count": 2,
   "metadata": {},
   "outputs": [
    {
     "name": "stdout",
     "output_type": "stream",
     "text": [
      "True\n"
     ]
    }
   ],
   "source": [
    "x=4\n",
    "print(1<x<5)"
   ]
  },
  {
   "cell_type": "code",
   "execution_count": 3,
   "metadata": {},
   "outputs": [
    {
     "name": "stdout",
     "output_type": "stream",
     "text": [
      "True\n"
     ]
    }
   ],
   "source": [
    "print((3==3) and (4 !=3))"
   ]
  },
  {
   "cell_type": "code",
   "execution_count": 4,
   "metadata": {},
   "outputs": [
    {
     "ename": "SyntaxError",
     "evalue": "invalid syntax (<ipython-input-4-170b4e660e0b>, line 1)",
     "output_type": "error",
     "traceback": [
      "\u001b[1;36m  File \u001b[1;32m\"<ipython-input-4-170b4e660e0b>\"\u001b[1;36m, line \u001b[1;32m1\u001b[0m\n\u001b[1;33m    print(3=>4)\u001b[0m\n\u001b[1;37m            ^\u001b[0m\n\u001b[1;31mSyntaxError\u001b[0m\u001b[1;31m:\u001b[0m invalid syntax\n"
     ]
    }
   ],
   "source": [
    "print(3=>4)"
   ]
  },
  {
   "cell_type": "markdown",
   "metadata": {},
   "source": [
    ">= 형태로 사용해야함!"
   ]
  },
  {
   "cell_type": "code",
   "execution_count": 8,
   "metadata": {},
   "outputs": [],
   "source": [
    "if 4<3:\n",
    "    print(\"Hello World\")"
   ]
  },
  {
   "cell_type": "markdown",
   "metadata": {},
   "source": [
    "108\n",
    "Hi, there"
   ]
  },
  {
   "cell_type": "markdown",
   "metadata": {},
   "source": [
    "109 정답:   \n",
    "1       \n",
    "\n",
    "2    \n",
    "\n",
    "4   \n"
   ]
  },
  {
   "cell_type": "markdown",
   "metadata": {},
   "source": [
    "# 111 ~ 120"
   ]
  },
  {
   "cell_type": "code",
   "execution_count": null,
   "metadata": {
    "scrolled": true
   },
   "outputs": [],
   "source": [
    "text = input()\n",
    "print(text*2)"
   ]
  },
  {
   "cell_type": "code",
   "execution_count": 1,
   "metadata": {},
   "outputs": [
    {
     "name": "stdout",
     "output_type": "stream",
     "text": [
      "숫자를 입력하세요: 10\n",
      "20\n"
     ]
    }
   ],
   "source": [
    "number = int(input(\"숫자를 입력하세요: \"))\n",
    "print(number+10)"
   ]
  },
  {
   "cell_type": "code",
   "execution_count": 2,
   "metadata": {},
   "outputs": [
    {
     "name": "stdout",
     "output_type": "stream",
     "text": [
      "30\n",
      "짝수\n"
     ]
    }
   ],
   "source": [
    "number = int(input())\n",
    "if number % 2 == 0:\n",
    "    print(\"짝수\")\n",
    "else:\n",
    "    print(\"홀수\")"
   ]
  },
  {
   "cell_type": "code",
   "execution_count": 7,
   "metadata": {},
   "outputs": [
    {
     "name": "stdout",
     "output_type": "stream",
     "text": [
      "입력값: 20\n",
      "출력값: 40\n"
     ]
    }
   ],
   "source": [
    "number = int(input(\"입력값: \"))\n",
    "add = number + 20\n",
    "\n",
    "if  add > 255:\n",
    "    print(255)\n",
    "else:\n",
    "    print(\"출력값:\",add)"
   ]
  },
  {
   "cell_type": "code",
   "execution_count": 10,
   "metadata": {},
   "outputs": [
    {
     "name": "stdout",
     "output_type": "stream",
     "text": [
      "입력값: 280\n",
      "255\n"
     ]
    }
   ],
   "source": [
    "number = int(input(\"입력값: \"))\n",
    "result = number - 20\n",
    "\n",
    "if  result > 255:\n",
    "    print(255)\n",
    "elif result < 0:\n",
    "    print(0)\n",
    "else:\n",
    "    print(\"출력값:\",result)\n",
    "    \n"
   ]
  },
  {
   "cell_type": "code",
   "execution_count": 12,
   "metadata": {},
   "outputs": [
    {
     "name": "stdout",
     "output_type": "stream",
     "text": [
      "현재시간: 03:40\n",
      "정각이 아닙니다\n"
     ]
    }
   ],
   "source": [
    "time = input(\"현재시간: \")\n",
    "\n",
    "time = time.split(\":\")\n",
    "\n",
    "if time[1] == \"00\":\n",
    "    print(\"정각 입니다.\")\n",
    "else: \n",
    "    print(\"정각이 아닙니다\")"
   ]
  },
  {
   "cell_type": "code",
   "execution_count": 14,
   "metadata": {},
   "outputs": [
    {
     "name": "stdout",
     "output_type": "stream",
     "text": [
      "좋아하는 과일은? 바나나\n",
      "오답입니다.\n"
     ]
    }
   ],
   "source": [
    "fruit = [\"사과\", \"포도\",\"홍시\"]\n",
    "user = input(\"좋아하는 과일은? \")\n",
    "if user in fruit:\n",
    "    print(\"정답입니다.\")\n",
    "else:\n",
    "    print(\"오답입니다.\")"
   ]
  },
  {
   "cell_type": "code",
   "execution_count": 1,
   "metadata": {},
   "outputs": [
    {
     "name": "stdout",
     "output_type": "stream",
     "text": [
      "종목명: Google\n",
      "투자 경고 종목입니다\n"
     ]
    }
   ],
   "source": [
    "warn_investment_list = [\"Microsoft\", \"Google\", \"Naver\", \"Kakao\", \"SAMSUNG\", \"LG\"]\n",
    "\n",
    "user = input(\"종목명: \")\n",
    "\n",
    "if user in warn_investment_list:\n",
    "    print(\"투자 경고 종목입니다\")\n",
    "else:\n",
    "    print(\"투자 경고 종목이 아닙니다.\")"
   ]
  },
  {
   "cell_type": "code",
   "execution_count": 5,
   "metadata": {},
   "outputs": [
    {
     "name": "stdout",
     "output_type": "stream",
     "text": [
      "제가좋아하는계절은: 봄\n",
      "정답입니다.\n"
     ]
    }
   ],
   "source": [
    "fruit = {\"봄\" : \"딸기\", \"여름\" : \"토마토\", \"가을\" : \"사과\"}\n",
    "\n",
    "keys = list(fruit.keys())\n",
    "\n",
    "user = input(\"제가좋아하는계절은: \")\n",
    "\n",
    "if user in keys:\n",
    "    print(\"정답입니다.\")"
   ]
  },
  {
   "cell_type": "code",
   "execution_count": 7,
   "metadata": {},
   "outputs": [
    {
     "name": "stdout",
     "output_type": "stream",
     "text": [
      "좋아하는과일은?: 한라봉\n",
      "오답입니다.\n"
     ]
    }
   ],
   "source": [
    "fruit = {\"봄\" : \"딸기\", \"여름\" : \"토마토\", \"가을\" : \"사과\"}\n",
    "\n",
    "values = list(fruit.values())\n",
    "\n",
    "user = input(\"좋아하는과일은?: \")\n",
    "\n",
    "if user in values:\n",
    "    print(\"정답입니다.\")\n",
    "else:\n",
    "    print(\"오답입니다.\")\n",
    "    "
   ]
  },
  {
   "cell_type": "markdown",
   "metadata": {},
   "source": [
    "# 121 ~ 130"
   ]
  },
  {
   "cell_type": "code",
   "execution_count": 10,
   "metadata": {},
   "outputs": [
    {
     "name": "stdout",
     "output_type": "stream",
     "text": [
      "R\n",
      "r\n"
     ]
    }
   ],
   "source": [
    "character = input()\n",
    "\n",
    "if character.islower():\n",
    "    print(character.upper())\n",
    "else:\n",
    "    print(character.lower())"
   ]
  },
  {
   "cell_type": "code",
   "execution_count": 13,
   "metadata": {},
   "outputs": [
    {
     "name": "stdout",
     "output_type": "stream",
     "text": [
      "score: 40\n",
      "grade is D\n"
     ]
    }
   ],
   "source": [
    "user = int(input(\"score: \"))\n",
    "\n",
    "if 81<= user <=100:\n",
    "    print(\"grade is A\")\n",
    "elif 61 <= user <= 80:\n",
    "    print(\"grade is B\")\n",
    "elif 41 <= user <= 60:\n",
    "    print(\"grade is C\")\n",
    "elif 21 <= user <= 40:\n",
    "    print(\"grade is D\")\n",
    "elif 0 <= user <= 20:\n",
    "    print(\"grade is E\")"
   ]
  },
  {
   "cell_type": "code",
   "execution_count": 17,
   "metadata": {},
   "outputs": [
    {
     "name": "stdout",
     "output_type": "stream",
     "text": [
      "입력 :10000 엔\n",
      "10960.0 원\n"
     ]
    }
   ],
   "source": [
    "user = input(\"입력 :\")\n",
    "\n",
    "user = user.split(\" \")\n",
    "\n",
    "\n",
    "exchange = {\n",
    "    \"달러\":1167,\n",
    "    \"엔\":1.096,\n",
    "    \"유로\":1268,\n",
    "    \"위안\":171\n",
    "}\n",
    "\n",
    "if user[1] in exchange.keys():\n",
    "    print(int(user[0])*exchange[user[1]],\"원\")\n",
    "\n"
   ]
  },
  {
   "cell_type": "code",
   "execution_count": 19,
   "metadata": {},
   "outputs": [
    {
     "name": "stdout",
     "output_type": "stream",
     "text": [
      "number1:10\n",
      "number2:9\n",
      "number3:30\n",
      "30\n"
     ]
    }
   ],
   "source": [
    "numbers = []\n",
    "\n",
    "for i in range(3):\n",
    "    user = int(input(\"number{}:\".format(i+1)))\n",
    "    numbers.append(user)\n",
    "print(max(numbers))\n",
    "    \n"
   ]
  },
  {
   "cell_type": "code",
   "execution_count": 24,
   "metadata": {},
   "outputs": [
    {
     "name": "stdout",
     "output_type": "stream",
     "text": [
      "011-345-1922\n",
      "당신은 SKT 사용자입니다.\n"
     ]
    }
   ],
   "source": [
    "data = {\n",
    "    \"011\":\"SKT\",\n",
    "    \"016\":\"KT\",\n",
    "    \"019\":\"LGU\",\n",
    "    \"010\":\"알수없음\"\n",
    "}\n",
    "\n",
    "user = input()\n",
    "user = user.split(\"-\")\n",
    "head = user[0]\n",
    "\n",
    "\n",
    "if head in data.keys():\n",
    "    print(\"당신은 {} 사용자입니다.\".format(data[head]))\n"
   ]
  },
  {
   "cell_type": "code",
   "execution_count": 25,
   "metadata": {},
   "outputs": [
    {
     "name": "stdout",
     "output_type": "stream",
     "text": [
      "우편번호: 01400\n",
      "도봉구\n"
     ]
    }
   ],
   "source": [
    "data = {\n",
    "    \"0\":\"강북구\",\n",
    "    \"1\":\"강북구\",\n",
    "    \"2\":\"강북구\",\n",
    "    \"3\":\"도봉구\",\n",
    "    \"4\":\"도봉구\",\n",
    "    \"5\":\"도봉구\",\n",
    "    \"6\":\"노원구\",\n",
    "    \"7\":\"노원구\",\n",
    "    \"8\":\"노원구\",\n",
    "    \"9\":\"노원구\"\n",
    "}\n",
    "\n",
    "user = input(\"우편번호: \")\n",
    "\n",
    "idx = user[2]\n",
    "\n",
    "if idx in data.keys():\n",
    "    print(data[idx])"
   ]
  },
  {
   "cell_type": "code",
   "execution_count": 26,
   "metadata": {},
   "outputs": [
    {
     "name": "stdout",
     "output_type": "stream",
     "text": [
      "주민등록번호: 821010-1635210\n",
      "남자\n"
     ]
    }
   ],
   "source": [
    "data = {\n",
    "    \"1\":\"남자\",\n",
    "    \"3\":\"남자\",\n",
    "    \"2\":\"여자\",\n",
    "    \"4\":\"여자\"\n",
    "}\n",
    "\n",
    "user = input(\"주민등록번호: \")\n",
    "\n",
    "user = user.split(\"-\")\n",
    "\n",
    "if user[1][0] in data.keys():\n",
    "    print(data[user[1][0]])\n"
   ]
  },
  {
   "cell_type": "code",
   "execution_count": 29,
   "metadata": {},
   "outputs": [
    {
     "name": "stdout",
     "output_type": "stream",
     "text": [
      "주민등록번호: 821010-1635210\n",
      "서울이 아닙니다.\n"
     ]
    }
   ],
   "source": [
    "user = input(\"주민등록번호: \")\n",
    "\n",
    "user = user.split(\"-\")\n",
    "\n",
    "back = user[1]\n",
    "\n",
    "idx = back[1:3]\n",
    "\n",
    "codes = []\n",
    "\n",
    "for i in range(9):\n",
    "    code = \"0\"+str(i)\n",
    "    codes.append(code)\n",
    "    \n",
    "if idx in codes:\n",
    "    print(\"서울 입니다.\")\n",
    "else:\n",
    "    print(\"서울이 아닙니다.\")"
   ]
  },
  {
   "cell_type": "code",
   "execution_count": 44,
   "metadata": {},
   "outputs": [
    {
     "name": "stdout",
     "output_type": "stream",
     "text": [
      "주민등록번호: 821010-1635210\n",
      "유효하지 않은 주민등록번호입니다.\n"
     ]
    }
   ],
   "source": [
    "user = input(\"주민등록번호: \") #821010-1635210\n",
    "\n",
    "user = user.split(\"-\")\n",
    "\n",
    "calculate = []\n",
    "\n",
    "for i in range(0,6):\n",
    "    calculate.append(int(user[0][i])*(i+2))\n",
    "\n",
    "\n",
    "calculate.append(int(user[1][0])*8)\n",
    "calculate.append(int(user[1][1])*9)\n",
    "    \n",
    "for i in range(2,6):\n",
    "    calculate.append(int(user[1][i])*i)\n",
    "\n",
    "\n",
    "calculate2 = sum(calculate)%11\n",
    "\n",
    "calculate3 = 11 - calculate2\n",
    "\n",
    "if calculate3 == user[1][-1]:\n",
    "    print(\"유효한 주민등록번호입니다.\")\n",
    "else:\n",
    "    print(\"유효하지 않은 주민등록번호입니다.\")\n"
   ]
  },
  {
   "cell_type": "code",
   "execution_count": 45,
   "metadata": {},
   "outputs": [],
   "source": [
    "import requests\n",
    "btc = requests.get(\"https://api.bithumb.com/public/ticker/\").json()['data']"
   ]
  },
  {
   "cell_type": "code",
   "execution_count": 48,
   "metadata": {},
   "outputs": [
    {
     "name": "stdout",
     "output_type": "stream",
     "text": [
      "상승장\n"
     ]
    }
   ],
   "source": [
    "시가 = int(btc[\"opening_price\"])\n",
    "종가 = int(btc[\"closing_price\"])\n",
    "최저가 = int(btc[\"min_price\"])\n",
    "최고가 = int(btc[\"max_price\"])\n",
    "\n",
    "변동폭 = 최고가 - 최저가\n",
    "\n",
    "if (시가 + 변동폭) > 최고가:\n",
    "    print(\"상승장\")\n",
    "elif (시가 + 변동폭) < 최고가:\n",
    "    print(\"하락장\")"
   ]
  },
  {
   "cell_type": "code",
   "execution_count": null,
   "metadata": {},
   "outputs": [],
   "source": []
  }
 ],
 "metadata": {
  "kernelspec": {
   "display_name": "Python 3",
   "language": "python",
   "name": "python3"
  },
  "language_info": {
   "codemirror_mode": {
    "name": "ipython",
    "version": 3
   },
   "file_extension": ".py",
   "mimetype": "text/x-python",
   "name": "python",
   "nbconvert_exporter": "python",
   "pygments_lexer": "ipython3",
   "version": "3.8.5"
  }
 },
 "nbformat": 4,
 "nbformat_minor": 4
}
