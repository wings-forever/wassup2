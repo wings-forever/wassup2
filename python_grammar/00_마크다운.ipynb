{
 "cells": [
  {
   "cell_type": "markdown",
   "metadata": {
    "id": "6eb3a399"
   },
   "source": [
    "[공통] 마크다운 markdown 작성법\n",
    "======================"
   ]
  },
  {
   "cell_type": "markdown",
   "metadata": {
    "id": "7418f77b"
   },
   "source": [
    "> 영어지만, 조금 더 상세하게 마크다운 사용법을 안내하고 있는    \n",
    "> \"Markdown Guide (https://www.markdownguide.org/)\" 를 보시는 것을 추천합니다. ^^\n",
    "\n",
    "> 아, 그리고 마크다운만으로 표현이 부족하다고 느끼신다면, HTML 태그를 활용하시는 것도 좋습니다."
   ]
  },
  {
   "cell_type": "markdown",
   "metadata": {
    "id": "b91cc751"
   },
   "source": [
    "# 마크다운에 관하여\n",
    "## 마크다운이란?\n",
    "[**Markdown**](https://www.markdownguide.org/getting-started/)은 텍스트 기반의 마크업언어로 2004년 존그루버에 의해 만들어졌으며 쉽게 쓰고 읽을 수 있으며 HTML로 변환이 가능하다. 특수기호와 문자를 이용한 매우 간단한 구조의 문법을 사용하여 웹에서도 보다 빠르게 컨텐츠를 작성하고 보다 직관적으로 인식할 수 있다.\n",
    "마크다운이 최근 각광받기 시작한 이유는 깃헙([https://github.com](https://github.com)) 덕분이다. 깃헙의 저장소Repository에 관한 정보를 기록하는 README.md는 깃헙을 사용하는 사람이라면 누구나 가장 먼저 접하게 되는 마크다운 문서였다. 마크다운을 통해서 설치방법, 소스코드 설명, 이슈 등을 간단하게 기록하고 가독성을 높일 수 있다는 강점이 부각되면서 점점 여러 곳으로 퍼져가게 된다."
   ]
  },
  {
   "cell_type": "markdown",
   "metadata": {
    "id": "52bee78f"
   },
   "source": [
    "## 마크다운의 장-단점\n",
    "### 장점\n",
    "\t1. 간결하다.\n",
    "\t2. 별도의 도구없이 작성가능하다.\n",
    "\t3. 다양한 형태로 변환이 가능하다.\n",
    "\t4. 텍스트(Text)로 저장되기 때문에 용량이 적어 보관이 용이하다.\n",
    "\t5. 텍스트파일이기 때문에 버전관리시스템을 이용하여 변경이력을 관리할 수 있다.\n",
    "\t6. 지원하는 프로그램과 플랫폼이 다양하다."
   ]
  },
  {
   "cell_type": "markdown",
   "metadata": {
    "id": "df062fba"
   },
   "source": [
    "### 단점\n",
    "\t1. 표준이 없다.\n",
    "\t2. 표준이 없기 때문에 도구에 따라서 변환방식이나 생성물이 다르다.\n",
    "\t3. 모든 HTML 마크업을 대신하지 못한다."
   ]
  },
  {
   "cell_type": "markdown",
   "metadata": {
    "id": "f529052c"
   },
   "source": [
    "****\n",
    "# 마크다운 사용법(문법)"
   ]
  },
  {
   "cell_type": "markdown",
   "metadata": {
    "id": "0f2a2101"
   },
   "source": [
    "## 헤더Headers\n",
    "* 큰제목: 문서 제목\n",
    "    ```\n",
    "    This is an H1\n",
    "    =============\n",
    "    ```    "
   ]
  },
  {
   "cell_type": "markdown",
   "metadata": {
    "id": "9e17c2ce"
   },
   "source": [
    "This is an H1\n",
    "==="
   ]
  },
  {
   "cell_type": "markdown",
   "metadata": {
    "id": "e1508f8b"
   },
   "source": [
    "* 작은제목: 문서 부제목\n",
    "    ```\n",
    "    This is an H2\n",
    "    -------------\n",
    "    ```"
   ]
  },
  {
   "cell_type": "code",
   "execution_count": null,
   "metadata": {
    "id": "c0896897"
   },
   "outputs": [],
   "source": []
  },
  {
   "cell_type": "markdown",
   "metadata": {
    "id": "82ccde72"
   },
   "source": [
    "* 글머리: 1~6까지만 지원\n",
    "```\n",
    "# This is a H1\n",
    "## This is a H2\n",
    "### This is a H3\n",
    "#### This is a H4\n",
    "##### This is a H5\n",
    "###### This is a H6\n",
    "```"
   ]
  },
  {
   "cell_type": "markdown",
   "metadata": {
    "id": "8ce8c928"
   },
   "source": [
    "# This is a H1"
   ]
  },
  {
   "cell_type": "markdown",
   "metadata": {
    "id": "32662848"
   },
   "source": [
    "## BlockQuote\n",
    "이메일에서 사용하는 ```>``` 블럭인용문자를 이용한다.\n",
    "```\n",
    "> This is a first blockqute.\n",
    ">\t> This is a second blockqute.\n",
    ">\t>\t> This is a third blockqute.\n",
    "```"
   ]
  },
  {
   "cell_type": "markdown",
   "metadata": {
    "id": "4facc1d7"
   },
   "source": [
    "> This is a first blockqute.\n",
    ">\t> This is a second blockqute.\n",
    ">\t>\t> This is a third blockqute"
   ]
  },
  {
   "cell_type": "markdown",
   "metadata": {
    "id": "8ba88720"
   },
   "source": [
    "이 안에서는 다른 마크다운 요소를 포함할 수 있다.\n",
    "> ### This is a H3\n",
    "> * List\n",
    ">\t```\n",
    ">\tcode\n",
    ">\t```"
   ]
  },
  {
   "cell_type": "markdown",
   "metadata": {
    "id": "5b6bdf82"
   },
   "source": [
    "> ### This is a H3\n",
    "> * List\n"
   ]
  },
  {
   "cell_type": "markdown",
   "metadata": {
    "id": "324b0d35"
   },
   "source": [
    "## 목록\n",
    "### ● 순서있는 목록(번호)\n",
    "순서있는 목록은 숫자와 점을 사용한다.\n",
    "```\n",
    "1. 첫번째\n",
    "2. 두번째\n",
    "3. 세번째\n",
    "```"
   ]
  },
  {
   "cell_type": "markdown",
   "metadata": {
    "id": "94159d31"
   },
   "source": [
    "\n",
    "1. 첫번째\n",
    "2. 두번째\n",
    "3. 세번째\n"
   ]
  },
  {
   "cell_type": "markdown",
   "metadata": {
    "id": "8aa4ea17"
   },
   "source": [
    "**현재까지는 어떤 번호를 입력해도 순서는 내림차순으로 정의된다.**\n",
    "```\n",
    "1. 첫번째\n",
    "3. 세번째\n",
    "2. 두번째\n",
    "```\n",
    "딱히 개선될 것 같지는 않다. 존 그루버가 신경안쓰고 있다고..."
   ]
  },
  {
   "cell_type": "code",
   "execution_count": null,
   "metadata": {
    "id": "4df5ea36"
   },
   "outputs": [],
   "source": []
  },
  {
   "cell_type": "markdown",
   "metadata": {
    "id": "f13ae310"
   },
   "source": [
    "### ● 순서없는 목록(글머리 기호: `*`, `+`, `-` 지원)\n",
    "```\n",
    "* 빨강\n",
    "  * 녹색\n",
    "    * 파랑\n",
    "\n",
    "+ 빨강\n",
    "  + 녹색\n",
    "    + 파랑\n",
    "\n",
    "- 빨강\n",
    "  - 녹색\n",
    "    - 파랑\n",
    "```"
   ]
  },
  {
   "cell_type": "markdown",
   "metadata": {
    "id": "366e5292"
   },
   "source": [
    "* 빨강\n",
    "    * 녹색\n",
    "        * 파랑\n",
    "\n",
    "+ 빨강\n",
    "    + 녹색\n",
    "        + 파랑\n",
    "\n",
    "- 빨강\n",
    "    - 녹색\n",
    "        - 파랑\n",
    "            "
   ]
  },
  {
   "cell_type": "markdown",
   "metadata": {
    "id": "4d4d8af3"
   },
   "source": [
    "혼합해서 사용하는 것도 가능하다(내가 선호하는 방식)\n",
    "```\n",
    "* 1단계\n",
    "  - 2단계\n",
    "    + 3단계\n",
    "      + 4단계\n",
    "```"
   ]
  },
  {
   "cell_type": "code",
   "execution_count": null,
   "metadata": {
    "id": "2d2cce2f"
   },
   "outputs": [],
   "source": []
  },
  {
   "cell_type": "markdown",
   "metadata": {
    "id": "8b9f2b4c"
   },
   "source": [
    "## 코드\n",
    "4개의 공백 또는 하나의 탭으로 들여쓰기를 만나면 변환되기 시작하여 들여쓰지 않은 행을 만날때까지 변환이 계속된다.\n",
    "\n",
    "### 들여쓰기\n",
    "```\n",
    "This is a normal paragraph:\n",
    "\n",
    "    This is a code block.\n",
    "    \n",
    "end code block.\n",
    "```"
   ]
  },
  {
   "cell_type": "markdown",
   "metadata": {
    "id": "2c876f2c"
   },
   "source": [
    "실제로 적용해보면,\n",
    "\n",
    "적용예:\n",
    "\n",
    "*****\n",
    "This is a normal paragraph:\n",
    "\n",
    "    This is a code block.\n",
    "\n",
    "end code block.\n",
    "*****"
   ]
  },
  {
   "cell_type": "markdown",
   "metadata": {
    "id": "3977da6e"
   },
   "source": [
    "\n",
    "This is a normal paragraph:\n",
    "\n",
    "    This is a code block.\n",
    "    \n",
    "end code block.\n"
   ]
  },
  {
   "cell_type": "markdown",
   "metadata": {},
   "source": [
    "This is a normal paragraph:\n",
    "    This is a code block.\n",
    "end code block."
   ]
  },
  {
   "cell_type": "markdown",
   "metadata": {
    "id": "89085d5b"
   },
   "source": [
    "> 한줄 띄어쓰지 않으면 인식이 제대로 안되는 문제가 발생합니다.\n",
    "\n",
    "```\n",
    "This is a normal paragraph:\n",
    "    This is a code block.\n",
    "end code block.\n",
    "```\n",
    "\n",
    "적용예:\n",
    "\n",
    "*****\n",
    "This is a normal paragraph:\n",
    "    This is a code block.\n",
    "end code block.\n",
    "*****"
   ]
  },
  {
   "cell_type": "code",
   "execution_count": null,
   "metadata": {
    "id": "c59b22fe"
   },
   "outputs": [],
   "source": []
  },
  {
   "cell_type": "markdown",
   "metadata": {
    "id": "a802ec0d"
   },
   "source": [
    "### 코드블럭\n",
    "코드블럭은 다음과 같이 2가지 방식을 사용할 수 있습니다:\n",
    "\n",
    "* `<pre><code>{code}</code></pre>` 이용방식\n",
    "\n",
    "```\n",
    "<pre>\n",
    "<code>\n",
    "public class BootSpringBootApplication {\n",
    "  public static void main(String[] args) {\n",
    "    System.out.println(\"Hello, Honeymon\");\n",
    "  }\n",
    "\n",
    "}\n",
    "</code>\n",
    "</pre>\n",
    "```"
   ]
  },
  {
   "cell_type": "markdown",
   "metadata": {
    "id": "847a8c05"
   },
   "source": [
    "```\n",
    "<pre>\n",
    "<code>\n",
    "public class BootSpringBootApplication {\n",
    "  public static void main(String[] args) {\n",
    "    System.out.println(\"Hello, Honeymon\");\n",
    "  }\n",
    "\n",
    "}\n",
    "</code>\n",
    "</pre>\n",
    "```"
   ]
  },
  {
   "cell_type": "markdown",
   "metadata": {
    "id": "b2335af2"
   },
   "source": [
    "* 코드블럭코드(\"\\```\") 을 이용하는 방법\n",
    "\n",
    "```\n",
    "public class BootSpringBootApplication {\n",
    "  public static void main(String[] args) {\n",
    "    System.out.println(\"Hello, Honeymon\");\n",
    "  }\n",
    "}\n",
    "```\n"
   ]
  },
  {
   "cell_type": "markdown",
   "metadata": {
    "id": "03f7529e"
   },
   "source": [
    "```\n",
    "public class BootSpringBootApplication {\n",
    "  public static void main(String[] args) {\n",
    "    System.out.println(\"Hello, Honeymon\");\n",
    "  }\n",
    "}\n",
    "```\n"
   ]
  },
  {
   "cell_type": "markdown",
   "metadata": {
    "id": "2b7ac88a"
   },
   "source": [
    "**깃헙**에서는 코드블럭코드(\"\\```\") 시작점에 사용하는 언어를 선언하여 [문법강조(Syntax highlighting)](https://docs.github.com/en/github/writing-on-github/creating-and-highlighting-code-blocks#syntax-highlighting)이 가능하다.\n",
    "```java\n",
    "public class BootSpringBootApplication {\n",
    "  public static void main(String[] args) {\n",
    "    System.out.println(\"Hello, Honeymon\");\n",
    "  }\n",
    "}\n",
    "```"
   ]
  },
  {
   "cell_type": "markdown",
   "metadata": {
    "id": "54b3b026"
   },
   "source": [
    "```python\n",
    "public class BootSpringBootApplication {\n",
    "  public static void main(String[] args) {\n",
    "    System.out.println(\"Hello, Honeymon\");\n",
    "  }\n",
    "}\n",
    "```"
   ]
  },
  {
   "cell_type": "markdown",
   "metadata": {
    "id": "383ba082"
   },
   "source": [
    "## 수평선\n",
    "아래 줄은 모두 수평선을 만든다. 마크다운 문서를 미리보기로 출력할 때 *페이지 나누기* 용도로 많이 사용한다.\n",
    "\n",
    "```\n",
    "* * *\n",
    "\n",
    "***\n",
    "\n",
    "*****\n",
    "\n",
    "- - -\n",
    "\n",
    "---------------------------------------\n",
    "```"
   ]
  },
  {
   "cell_type": "code",
   "execution_count": null,
   "metadata": {
    "id": "595b4ec3"
   },
   "outputs": [],
   "source": []
  },
  {
   "cell_type": "markdown",
   "metadata": {
    "id": "2b68ac1a"
   },
   "source": [
    "## 링크\n",
    "* 참조링크\n",
    "\n",
    "```\n",
    "[link keyword][id]\n",
    "\n",
    "[id]: URL \"Optional Title here\"\n",
    "\n",
    "// code\n",
    "Link: [Google][googlelink]\n",
    "\n",
    "[googlelink]: https://google.com \"Go google\"\n",
    "```"
   ]
  },
  {
   "cell_type": "markdown",
   "metadata": {
    "id": "799de18d"
   },
   "source": [
    "Link: [Naver][weblink]\n",
    "\n",
    "[weblink]: https://naver.com \"go to naver\""
   ]
  },
  {
   "cell_type": "markdown",
   "metadata": {
    "id": "477f50c0"
   },
   "source": [
    "* 외부링크\n",
    "```\n",
    "사용문법: [Title](link)\n",
    "적용예: [Google](https://google.com \"google link\") # 쉼표를 주소로 인식하는 오류 주의\n",
    "```"
   ]
  },
  {
   "cell_type": "markdown",
   "metadata": {
    "id": "954b6e5e"
   },
   "source": [
    "[Naver](https://naver.com \"naver link\")"
   ]
  },
  {
   "cell_type": "markdown",
   "metadata": {
    "id": "72d3745b"
   },
   "source": [
    "* 자동연결\n",
    "```\n",
    "일반적인 URL 혹은 이메일주소인 경우 적절한 형식으로 링크를 형성한다.\n",
    "\n",
    "* 외부링크: <http://example.com/>\n",
    "* 이메일링크: <address@example.com>\n",
    "```"
   ]
  },
  {
   "cell_type": "code",
   "execution_count": null,
   "metadata": {
    "id": "c8f9352b"
   },
   "outputs": [],
   "source": []
  },
  {
   "cell_type": "markdown",
   "metadata": {
    "id": "9c503991"
   },
   "source": [
    "## 2.7. 강조\n",
    "```\n",
    "*single asterisks*\n",
    "_single underscores_\n",
    "**double asterisks**\n",
    "__double underscores__\n",
    "~~cancelline~~\n",
    "```"
   ]
  },
  {
   "cell_type": "markdown",
   "metadata": {
    "id": "fa362d24"
   },
   "source": [
    "*강조*   \n",
    "*강조*   \n",
    "**강조**  \n",
    "__강조__   \n",
    "~~canceline~~"
   ]
  },
  {
   "cell_type": "markdown",
   "metadata": {
    "id": "10623985"
   },
   "source": [
    "> ```문장 중간에 사용할 경우에는 **띄어쓰기** 를 사용하는 것이 좋다.```   \n",
    "> 문장 중간에 사용할 경우에는 띄어쓰기를 사용하는 것이 좋다."
   ]
  },
  {
   "cell_type": "code",
   "execution_count": null,
   "metadata": {
    "id": "aeb219d6"
   },
   "outputs": [],
   "source": []
  },
  {
   "cell_type": "markdown",
   "metadata": {
    "id": "87ff90be"
   },
   "source": [
    "## 이미지\n",
    "```\n",
    "# 마크다운 안에 삽입\n",
    "![Alt text](/path/to/img.jpg)\n",
    "![Alt text](/path/to/img.jpg \"Optional title\")\n",
    "# 코드블럭에 삽입\n",
    "![image.png](attachment:image.png)\n",
    "```\n",
    "\n",
    "![석촌호수 러버덕](http://cfile6.uf.tistory.com/image/2426E646543C9B4532C7B0)\n",
    "![석촌호수 러버덕](http://cfile6.uf.tistory.com/image/2426E646543C9B4532C7B0 \"RubberDuck\")"
   ]
  },
  {
   "cell_type": "markdown",
   "metadata": {
    "id": "40b580d9"
   },
   "source": [
    "![dog](data:image/jpeg;base64,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)"
   ]
  },
  {
   "cell_type": "markdown",
   "metadata": {},
   "source": []
  },
  {
   "cell_type": "markdown",
   "metadata": {
    "id": "f9d46842"
   },
   "source": [
    "사이즈 조절 기능은 없기 때문에 ```<img width=\"\" height=\"\"></img>```를 이용한다.\n",
    "\n",
    "예\n",
    "```\n",
    "<img src=\"/path/to/img.jpg\" width=\"450px\" height=\"300px\" title=\"px(픽셀) 크기 설정\" alt=\"RubberDuck\"></img><br/>\n",
    "<img src=\"/path/to/img.jpg\" width=\"40%\" height=\"30%\" title=\"px(픽셀) 크기 설정\" alt=\"RubberDuck\"></img>\n",
    "```\n",
    "\n",
    "<img src=\"http://cfile6.uf.tistory.com/image/2426E646543C9B4532C7B0\" width=\"450px\" height=\"300px\" title=\"px(픽셀) 크기 설정\" alt=\"RubberDuck\"></img><br/>\n",
    "<img src=\"http://cfile6.uf.tistory.com/image/2426E646543C9B4532C7B0\" width=\"40%\" height=\"30%\" title=\"%(비율) 크기 설정\" alt=\"RubberDuck\"></img>"
   ]
  },
  {
   "cell_type": "code",
   "execution_count": null,
   "metadata": {
    "id": "d63eaa67"
   },
   "outputs": [],
   "source": []
  },
  {
   "cell_type": "markdown",
   "metadata": {
    "id": "1a929d99"
   },
   "source": [
    "## 줄바꿈\n",
    "```\n",
    "* 줄 바꿈을 하기 위해서는 문장 마지막에서 3칸이상을 띄어쓰기해야 한다.\n",
    "이렇게\n",
    "\n",
    "* 줄 바꿈을 하기 위해서는 문장 마지막에서 3칸이상을 띄어쓰기해야 한다.___\\\\ 띄어쓰기\n",
    "이렇게\n",
    "```"
   ]
  },
  {
   "cell_type": "code",
   "execution_count": null,
   "metadata": {
    "id": "a6054667"
   },
   "outputs": [],
   "source": []
  },
  {
   "cell_type": "markdown",
   "metadata": {
    "id": "dd6d2afd"
   },
   "source": [
    "## 테이블"
   ]
  },
  {
   "cell_type": "markdown",
   "metadata": {
    "id": "016a44ca"
   },
   "source": [
    "### 일반적인 표\n",
    "\n",
    "문자와 — 문자로 표를 만들 수 있습니다.\n",
    "```\n",
    "|제목|내용|설명|\n",
    "|------|---|---|\n",
    "|테스트1|테스트2|테스트3|\n",
    "|테스트1|테스트2|테스트3|\n",
    "|테스트1|테스트2|테스트3|\n",
    "```"
   ]
  },
  {
   "cell_type": "markdown",
   "metadata": {
    "executionInfo": {
     "elapsed": 3,
     "status": "ok",
     "timestamp": 1700617950330,
     "user": {
      "displayName": "Seunghye Kim",
      "userId": "03123368174336215832"
     },
     "user_tz": -540
    },
    "id": "a3467ca3"
   },
   "source": [
    "|제목|내용|설명|\n",
    "|------|---|---|\n",
    "|테스트1|테스트2|테스트3|\n",
    "|테스트1|테스트2|테스트3|\n",
    "|테스트1|테스트2|테스트3|"
   ]
  },
  {
   "cell_type": "markdown",
   "metadata": {
    "id": "08613f3a"
   },
   "source": [
    "### 정렬\n",
    ": 문자로 정렬을 정의할 수 있습니다.\n",
    "```\n",
    "|제목|내용|설명|\n",
    "|:---|---:|:---:|\n",
    "|왼쪽정렬|오른쪽정렬|중앙정렬|\n",
    "|왼쪽정렬|오른쪽정렬|중앙정렬|\n",
    "|왼쪽정렬|오른쪽정렬|중앙정렬|\n",
    "```"
   ]
  },
  {
   "cell_type": "markdown",
   "metadata": {
    "id": "96585085"
   },
   "source": [
    "|제목|내용|설명|\n",
    "|:---|---:|:---:|\n",
    "|왼쪽정렬|오른쪽정렬|중앙정렬|\n",
    "|왼쪽정렬|오른쪽정렬|중앙정렬|\n",
    "|왼쪽정렬|오른쪽정렬|중앙정렬|"
   ]
  },
  {
   "cell_type": "markdown",
   "metadata": {
    "id": "2420807a"
   },
   "source": [
    "### 셀 확장 (셀 병합)\n",
    "사이가 비어있으면 자동 확장됩니다.\n",
    "```\n",
    "|제목|내용|설명|\n",
    "|:---|:---:|---:|\n",
    "||중앙에서확장||\n",
    "|||오른쪽에서 확장|\n",
    "|왼쪽에서확장||\n",
    "```"
   ]
  },
  {
   "cell_type": "markdown",
   "metadata": {
    "id": "1e41e289"
   },
   "source": [
    "|제목|내용|설명|\n",
    "|:---|:---:|---:|\n",
    "||중앙에서확장||\n",
    "|||오른쪽에서 확장|\n",
    "|왼쪽에서확장||"
   ]
  },
  {
   "cell_type": "markdown",
   "metadata": {
    "id": "030c56ab"
   },
   "source": [
    "### 셀 강조\n",
    "일반적인 text와 마찬가지로 * 와 ** 를 통해 이탤릭/강조를 표시할 수 있습니다. span tag를 사용하면 컬러도 표시할 수 있습니다.\n",
    "```\n",
    "|제목|내용|설명|\n",
    "|---|---|---|\n",
    "|테스트1|*강조1*|테스트3|\n",
    "|테스트1|**강조2**|테스트3|\n",
    "|테스트1|<span style=\"color:red\">강조3</span>|테스트3|\n",
    "```"
   ]
  },
  {
   "cell_type": "markdown",
   "metadata": {
    "id": "623c0509"
   },
   "source": [
    "|제목|내용|설명|\n",
    "|---|---|---|\n",
    "|테스트1|*강조1*|테스트3|\n",
    "|테스트1|**강조2**|테스트3|\n",
    "|테스트1|<span style=\"color:red\">강조3</span>|테스트3|"
   ]
  },
  {
   "cell_type": "markdown",
   "metadata": {
    "id": "57d175b2"
   },
   "source": [
    "#  수학 기호 LaTex표기법\n",
    "사칙연산, 분수, 제곱, 루트, 시그마, 로그, 행렬, 극한 등 수학 기호 및 수식 등 을 표현할 수 있다.\n",
    "[블로그 참고](https://velog.io/@d2h10s/LaTex-Markdown-%EC%88%98%EC%8B%9D-%EC%9E%91%EC%84%B1%EB%B2%95)"
   ]
  },
  {
   "cell_type": "code",
   "execution_count": null,
   "metadata": {
    "id": "5c7beefd"
   },
   "outputs": [],
   "source": []
  }
 ],
 "metadata": {
  "colab": {
   "provenance": []
  },
  "kernelspec": {
   "display_name": "Python 3",
   "language": "python",
   "name": "python3"
  },
  "language_info": {
   "codemirror_mode": {
    "name": "ipython",
    "version": 3
   },
   "file_extension": ".py",
   "mimetype": "text/x-python",
   "name": "python",
   "nbconvert_exporter": "python",
   "pygments_lexer": "ipython3",
   "version": "3.8.5"
  },
  "toc": {
   "base_numbering": 1,
   "nav_menu": {},
   "number_sections": true,
   "sideBar": true,
   "skip_h1_title": false,
   "title_cell": "Table of Contents",
   "title_sidebar": "Contents",
   "toc_cell": false,
   "toc_position": {
    "height": "calc(100% - 180px)",
    "left": "10px",
    "top": "150px",
    "width": "307.2px"
   },
   "toc_section_display": true,
   "toc_window_display": false
  },
  "varInspector": {
   "cols": {
    "lenName": 16,
    "lenType": 16,
    "lenVar": 40
   },
   "kernels_config": {
    "python": {
     "delete_cmd_postfix": "",
     "delete_cmd_prefix": "del ",
     "library": "var_list.py",
     "varRefreshCmd": "print(var_dic_list())"
    },
    "r": {
     "delete_cmd_postfix": ") ",
     "delete_cmd_prefix": "rm(",
     "library": "var_list.r",
     "varRefreshCmd": "cat(var_dic_list()) "
    }
   },
   "types_to_exclude": [
    "module",
    "function",
    "builtin_function_or_method",
    "instance",
    "_Feature"
   ],
   "window_display": false
  }
 },
 "nbformat": 4,
 "nbformat_minor": 5
}
