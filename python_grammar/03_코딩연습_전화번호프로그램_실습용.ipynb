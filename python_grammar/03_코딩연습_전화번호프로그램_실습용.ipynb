{
 "cells": [
  {
   "cell_type": "markdown",
   "metadata": {},
   "source": [
    "# 전화번호 프로그램 만들기\n",
    "\n",
    "* 홍길동 010-123-4567\n",
    "* 기능1 : 연락처 추가\n",
    "* 기능2 : 연락처 전체 보기\n",
    "* 기능3 : 검색, 이름을 입력받아서 전화번호 조회\n",
    "* 기능4 : 수정, 이름을 입력받아서 전화번호 입력수정\n",
    "* 기능5 : 삭제, 이름 입력받아서 삭제\n",
    "* 기능6 : 프로그램 종료"
   ]
  },
  {
   "cell_type": "markdown",
   "metadata": {},
   "source": [
    "## 연락처 추가"
   ]
  },
  {
   "cell_type": "code",
   "execution_count": 3,
   "metadata": {
    "scrolled": true
   },
   "outputs": [
    {
     "name": "stdout",
     "output_type": "stream",
     "text": [
      "이름을 입력해 주세요.: 김민승\n",
      "연락처를 추가해 주세요.: 010-4444-5555\n",
      "\n",
      "이름을 입력해 주세요.: 홍길동\n",
      "연락처를 추가해 주세요.: 010-3333-33333\n",
      "\n",
      "이름을 입력해 주세요.: 끝\n",
      "[연락처 전체 보기]\n",
      " {'김민승': '010-4444-5555', '홍길동': '010-3333-33333'}\n",
      "\n",
      "검색할 이름을 입력해 주세요: 김민승\n",
      "010-4444-5555\n",
      "\n",
      "수정할 연락처의 이름을 입력해 주세요: 홍길동\n",
      "연락처 수정본: 010-6666-6666\n",
      "{'김민승': '010-4444-5555', '홍길동': '010-6666-6666'}\n",
      "\n",
      "삭제할 연락처의 이름을 입력해 주세요: 김민승\n",
      "{'홍길동': '010-6666-6666'}\n"
     ]
    }
   ],
   "source": [
    "'''user_name = \"홍길동\" #input(\"이름을 입력해 주세요.\")\n",
    "user_number = \"010-123-4567\"  # input(\"연락처를 추가해 주세요.\")\n",
    "phones = {}\n",
    "phones[user_name]=user_number'''\n",
    "\n",
    "# 연락처 추가\n",
    "phones = {}\n",
    "while True:\n",
    "    user_name = input(\"이름을 입력해 주세요.: \")\n",
    "    if user_name == \"끝\":\n",
    "        break\n",
    "    user_number = input(\"연락처를 추가해 주세요.: \")\n",
    "    phones[user_name] = user_number\n",
    "    print(\"\")\n",
    "    \n",
    "#연락처 전체 보기\n",
    "print(\"\")\n",
    "print(\"[연락처 전체 보기]\\n\",phones)\n",
    "print(\"\")\n",
    "\n",
    "#검색 (이름 입력받아서 전화번호 조회)\n",
    "search_name = input(\"연락처를 검색할 이름을 입력해 주세요: \")\n",
    "print(phones[search_name])\n",
    "print(\"\")\n",
    "\n",
    "#수정 (이름을 입력받아서 전화번호 입력 수정)\n",
    "edit_number = input(\"수정할 연락처의 이름을 입력해 주세요: \")\n",
    "phones[edit_number] = input(\"연락처 수정본: \")\n",
    "\n",
    "print(phones)\n",
    "print(\"\")\n",
    "\n",
    "#삭제 (이름을 입력받아서 전화번호 입력 수정)\n",
    "del_name = input(\"삭제할 연락처의 이름을 입력해 주세요: \")\n",
    "del phones[del_name]\n",
    "\n",
    "print(phones)"
   ]
  },
  {
   "cell_type": "code",
   "execution_count": null,
   "metadata": {},
   "outputs": [
    {
     "name": "stdout",
     "output_type": "stream",
     "text": [
      "\n",
      "-------전화번호부 프로그램--------\n",
      "1.추가  2.보기   3.검색    4.수정    5.삭제    9.종료\n",
      "\n",
      "메뉴를 선택해주세요(숫자 only): 1\n",
      "\n",
      "연락처를 추가합니다.\n",
      "이름을 입력해 주세요.: 김민승\n",
      "연락처를 추가해 주세요.: 010-3333-33333\n",
      "{'김민승': '010-3333-33333'}\n",
      "\n",
      "-------전화번호부 프로그램--------\n",
      "1.추가  2.보기   3.검색    4.수정    5.삭제    9.종료\n",
      "\n",
      "메뉴를 선택해주세요(숫자 only): 1\n",
      "\n",
      "연락처를 추가합니다.\n",
      "이름을 입력해 주세요.: 홍길동\n",
      "연락처를 추가해 주세요.: 010-6666-9999\n",
      "{'김민승': '010-3333-33333', '홍길동': '010-6666-9999'}\n",
      "\n",
      "-------전화번호부 프로그램--------\n",
      "1.추가  2.보기   3.검색    4.수정    5.삭제    9.종료\n",
      "\n",
      "메뉴를 선택해주세요(숫자 only): 2\n",
      "\n",
      "연락처를 모두 조회합니다.\n",
      "김민승 : 010-3333-33333\n",
      "홍길동 : 010-6666-9999\n",
      "\n",
      "-------전화번호부 프로그램--------\n",
      "1.추가  2.보기   3.검색    4.수정    5.삭제    9.종료\n",
      "\n",
      "메뉴를 선택해주세요(숫자 only): 3\n",
      "\n",
      "연락처를 검색합니다.\n",
      "검색할 이름을 입력해 주세요: 김민승\n",
      "010-3333-33333\n",
      "\n",
      "-------전화번호부 프로그램--------\n",
      "1.추가  2.보기   3.검색    4.수정    5.삭제    9.종료\n",
      "\n"
     ]
    }
   ],
   "source": [
    "phones = {}\n",
    "while True:\n",
    "    print(\"\")\n",
    "    print(\"-------전화번호부 프로그램--------\")\n",
    "    print(\"1.추가  2.보기   3.검색    4.수정    5.삭제    9.종료\")\n",
    "    print(\"\")\n",
    "    menu = int(input(\"메뉴를 선택해주세요(숫자 only): \"))\n",
    "    print(\"\")\n",
    "\n",
    "    if menu == 1:\n",
    "        print(\"연락처를 추가합니다.\")\n",
    "        user_name = input(\"이름: \")\n",
    "        user_number = input(\"연락처: \")\n",
    "        #phones[user_name] = user_number #덮어쓰기 되어버림\n",
    "        phones.setdefault(user_name,user_number)\n",
    "\n",
    "    elif menu == 2:\n",
    "        print(\"연락처를 모두 조회합니다.\")\n",
    "        for name, tel in phones.items():\n",
    "            print(name,\":\",tel)\n",
    "    \n",
    "    elif menu == 3:\n",
    "        print(\"연락처를 검색합니다.\")\n",
    "        search_name = input(\"이름: \") \n",
    "        #print(phones[search_name])\n",
    "        print(phones.get(search_name,\"없는 연락처입니다.\"))\n",
    "\n",
    "    elif menu == 4:\n",
    "        print(\"연락처를 수정합니다.\")\n",
    "        edit_name = input(\"수정 이름: \")\n",
    "        \n",
    "        if edit_name in phones:\n",
    "            edit_number = input(\"새 전화번호: \")\n",
    "            phones[edit_name] = edit_number\n",
    "            \n",
    "        \n",
    "    elif menu == 5:\n",
    "        print(\"연락처를 삭제합니다.\")\n",
    "        del_name = input(\"삭제할 연락처의 이름을 입력해 주세요: \")\n",
    "        del phones[del_name]\n",
    "\n",
    "    elif menu == 9:\n",
    "        print(\"프로그램을 종료합니다.\")\n",
    "        break\n",
    "        \n",
    "    else:\n",
    "        print(\"잘못된 입력입니다.\")\n",
    "        "
   ]
  },
  {
   "cell_type": "code",
   "execution_count": null,
   "metadata": {},
   "outputs": [],
   "source": []
  },
  {
   "cell_type": "code",
   "execution_count": null,
   "metadata": {},
   "outputs": [],
   "source": []
  },
  {
   "cell_type": "code",
   "execution_count": null,
   "metadata": {},
   "outputs": [],
   "source": []
  },
  {
   "cell_type": "code",
   "execution_count": null,
   "metadata": {},
   "outputs": [],
   "source": []
  },
  {
   "cell_type": "code",
   "execution_count": null,
   "metadata": {},
   "outputs": [],
   "source": []
  },
  {
   "cell_type": "code",
   "execution_count": null,
   "metadata": {},
   "outputs": [],
   "source": []
  },
  {
   "cell_type": "code",
   "execution_count": null,
   "metadata": {},
   "outputs": [],
   "source": []
  },
  {
   "cell_type": "code",
   "execution_count": null,
   "metadata": {},
   "outputs": [],
   "source": []
  },
  {
   "cell_type": "code",
   "execution_count": null,
   "metadata": {},
   "outputs": [],
   "source": []
  },
  {
   "cell_type": "code",
   "execution_count": null,
   "metadata": {},
   "outputs": [],
   "source": []
  }
 ],
 "metadata": {
  "kernelspec": {
   "display_name": "Python 3",
   "language": "python",
   "name": "python3"
  },
  "language_info": {
   "codemirror_mode": {
    "name": "ipython",
    "version": 3
   },
   "file_extension": ".py",
   "mimetype": "text/x-python",
   "name": "python",
   "nbconvert_exporter": "python",
   "pygments_lexer": "ipython3",
   "version": "3.8.5"
  },
  "toc": {
   "base_numbering": 1,
   "nav_menu": {},
   "number_sections": true,
   "sideBar": true,
   "skip_h1_title": false,
   "title_cell": "Table of Contents",
   "title_sidebar": "Contents",
   "toc_cell": false,
   "toc_position": {},
   "toc_section_display": true,
   "toc_window_display": false
  },
  "varInspector": {
   "cols": {
    "lenName": 16,
    "lenType": 16,
    "lenVar": 40
   },
   "kernels_config": {
    "python": {
     "delete_cmd_postfix": "",
     "delete_cmd_prefix": "del ",
     "library": "var_list.py",
     "varRefreshCmd": "print(var_dic_list())"
    },
    "r": {
     "delete_cmd_postfix": ") ",
     "delete_cmd_prefix": "rm(",
     "library": "var_list.r",
     "varRefreshCmd": "cat(var_dic_list()) "
    }
   },
   "types_to_exclude": [
    "module",
    "function",
    "builtin_function_or_method",
    "instance",
    "_Feature"
   ],
   "window_display": false
  }
 },
 "nbformat": 4,
 "nbformat_minor": 2
}
